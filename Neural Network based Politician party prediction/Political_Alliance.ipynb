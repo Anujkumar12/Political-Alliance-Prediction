{
  "nbformat": 4,
  "nbformat_minor": 0,
  "metadata": {
    "colab": {
      "name": "Political_Alliance.ipynb",
      "provenance": [],
      "collapsed_sections": []
    },
    "kernelspec": {
      "name": "python3",
      "display_name": "Python 3"
    },
    "language_info": {
      "name": "python"
    }
  },
  "cells": [
    {
      "cell_type": "code",
      "metadata": {
        "id": "pDUBADJsAtGR"
      },
      "source": [
        "import torch \n",
        "import torchvision\n",
        "import torch.nn as nn\n",
        "import torch.optim as optim\n",
        "import torch.nn.functional as F\n",
        "from torch.utils.data import DataLoader\n",
        "import torchvision.datasets as datasets\n",
        "from torch.utils.data import TensorDataset\n",
        "from torch.utils.data import random_split"
      ],
      "execution_count": null,
      "outputs": []
    },
    {
      "cell_type": "code",
      "metadata": {
        "id": "gCZLr9mxWBDa"
      },
      "source": [
        "input_size = 43\n",
        "learning_rate = 0.001\n",
        "num_epochs = 100"
      ],
      "execution_count": null,
      "outputs": []
    },
    {
      "cell_type": "code",
      "metadata": {
        "id": "9tvcjtWkhY9i"
      },
      "source": [
        "import pandas as pd\n",
        "import numpy as np"
      ],
      "execution_count": null,
      "outputs": []
    },
    {
      "cell_type": "code",
      "metadata": {
        "id": "8IC9BtsmhciH"
      },
      "source": [
        "df = pd.DataFrame()\n",
        "df = pd.read_csv('./train_data.csv', encoding = 'utf-8')\n",
        "df[\"Target\"]= df[\"Target\"].astype(str)"
      ],
      "execution_count": null,
      "outputs": []
    },
    {
      "cell_type": "code",
      "metadata": {
        "colab": {
          "base_uri": "https://localhost:8080/",
          "height": 239
        },
        "id": "br9JdUPN3hm3",
        "outputId": "924a36f3-5278-4356-9a6a-8b77d34ada9c"
      },
      "source": [
        "df.head()"
      ],
      "execution_count": null,
      "outputs": [
        {
          "output_type": "execute_result",
          "data": {
            "text/html": [
              "<div>\n",
              "<style scoped>\n",
              "    .dataframe tbody tr th:only-of-type {\n",
              "        vertical-align: middle;\n",
              "    }\n",
              "\n",
              "    .dataframe tbody tr th {\n",
              "        vertical-align: top;\n",
              "    }\n",
              "\n",
              "    .dataframe thead th {\n",
              "        text-align: right;\n",
              "    }\n",
              "</style>\n",
              "<table border=\"1\" class=\"dataframe\">\n",
              "  <thead>\n",
              "    <tr style=\"text-align: right;\">\n",
              "      <th></th>\n",
              "      <th>Unnamed: 0</th>\n",
              "      <th>Target</th>\n",
              "      <th>Embedding</th>\n",
              "      <th>Unnamed: 3</th>\n",
              "      <th>Unnamed: 4</th>\n",
              "      <th>Unnamed: 5</th>\n",
              "      <th>Unnamed: 6</th>\n",
              "      <th>Unnamed: 7</th>\n",
              "      <th>Unnamed: 8</th>\n",
              "      <th>Unnamed: 9</th>\n",
              "      <th>Unnamed: 10</th>\n",
              "      <th>Unnamed: 11</th>\n",
              "      <th>Unnamed: 12</th>\n",
              "      <th>Unnamed: 13</th>\n",
              "      <th>Unnamed: 14</th>\n",
              "      <th>Unnamed: 15</th>\n",
              "      <th>Unnamed: 16</th>\n",
              "      <th>Unnamed: 17</th>\n",
              "      <th>Unnamed: 18</th>\n",
              "      <th>Unnamed: 19</th>\n",
              "      <th>Unnamed: 20</th>\n",
              "      <th>Unnamed: 21</th>\n",
              "      <th>Unnamed: 22</th>\n",
              "      <th>Unnamed: 23</th>\n",
              "      <th>Unnamed: 24</th>\n",
              "      <th>Unnamed: 25</th>\n",
              "      <th>Unnamed: 26</th>\n",
              "      <th>Unnamed: 27</th>\n",
              "      <th>Unnamed: 28</th>\n",
              "      <th>Unnamed: 29</th>\n",
              "      <th>Unnamed: 30</th>\n",
              "      <th>Unnamed: 31</th>\n",
              "      <th>Unnamed: 32</th>\n",
              "      <th>Unnamed: 33</th>\n",
              "      <th>Unnamed: 34</th>\n",
              "      <th>Unnamed: 35</th>\n",
              "      <th>Unnamed: 36</th>\n",
              "      <th>Unnamed: 37</th>\n",
              "      <th>Unnamed: 38</th>\n",
              "      <th>Unnamed: 39</th>\n",
              "      <th>Unnamed: 40</th>\n",
              "      <th>Unnamed: 41</th>\n",
              "      <th>Unnamed: 42</th>\n",
              "      <th>Unnamed: 43</th>\n",
              "      <th>Unnamed: 44</th>\n",
              "    </tr>\n",
              "  </thead>\n",
              "  <tbody>\n",
              "    <tr>\n",
              "      <th>0</th>\n",
              "      <td>0</td>\n",
              "      <td>BJP</td>\n",
              "      <td>0.610007</td>\n",
              "      <td>-1.373251</td>\n",
              "      <td>-0.477155</td>\n",
              "      <td>0.542287</td>\n",
              "      <td>-0.330684</td>\n",
              "      <td>0.521968</td>\n",
              "      <td>1.343305</td>\n",
              "      <td>-0.772400</td>\n",
              "      <td>0.354372</td>\n",
              "      <td>-1.105608</td>\n",
              "      <td>1.000000</td>\n",
              "      <td>0.001</td>\n",
              "      <td>0.001</td>\n",
              "      <td>0.001</td>\n",
              "      <td>0.001</td>\n",
              "      <td>0.001</td>\n",
              "      <td>0.001</td>\n",
              "      <td>0.001</td>\n",
              "      <td>0.001</td>\n",
              "      <td>0.001</td>\n",
              "      <td>0.001</td>\n",
              "      <td>0.001</td>\n",
              "      <td>0.001</td>\n",
              "      <td>0.001</td>\n",
              "      <td>0.001</td>\n",
              "      <td>0.001</td>\n",
              "      <td>0.001</td>\n",
              "      <td>0.001</td>\n",
              "      <td>0.001</td>\n",
              "      <td>0.001</td>\n",
              "      <td>0.001</td>\n",
              "      <td>0.001</td>\n",
              "      <td>0.001</td>\n",
              "      <td>0.001</td>\n",
              "      <td>0.001</td>\n",
              "      <td>0.001</td>\n",
              "      <td>0.001</td>\n",
              "      <td>0.001</td>\n",
              "      <td>0.001</td>\n",
              "      <td>0.001</td>\n",
              "      <td>0.001</td>\n",
              "      <td>0.001</td>\n",
              "      <td>0.001</td>\n",
              "    </tr>\n",
              "    <tr>\n",
              "      <th>1</th>\n",
              "      <td>1</td>\n",
              "      <td>BJP</td>\n",
              "      <td>1.132800</td>\n",
              "      <td>0.431400</td>\n",
              "      <td>0.006784</td>\n",
              "      <td>0.733220</td>\n",
              "      <td>1.157032</td>\n",
              "      <td>-0.967515</td>\n",
              "      <td>-0.248303</td>\n",
              "      <td>0.397667</td>\n",
              "      <td>-0.720171</td>\n",
              "      <td>1.133229</td>\n",
              "      <td>0.666667</td>\n",
              "      <td>0.001</td>\n",
              "      <td>0.001</td>\n",
              "      <td>0.001</td>\n",
              "      <td>0.001</td>\n",
              "      <td>0.001</td>\n",
              "      <td>0.001</td>\n",
              "      <td>0.001</td>\n",
              "      <td>0.001</td>\n",
              "      <td>0.001</td>\n",
              "      <td>0.001</td>\n",
              "      <td>0.001</td>\n",
              "      <td>0.001</td>\n",
              "      <td>0.001</td>\n",
              "      <td>0.001</td>\n",
              "      <td>0.001</td>\n",
              "      <td>0.001</td>\n",
              "      <td>0.001</td>\n",
              "      <td>0.001</td>\n",
              "      <td>0.001</td>\n",
              "      <td>0.001</td>\n",
              "      <td>0.001</td>\n",
              "      <td>0.001</td>\n",
              "      <td>0.001</td>\n",
              "      <td>0.001</td>\n",
              "      <td>0.001</td>\n",
              "      <td>0.001</td>\n",
              "      <td>0.001</td>\n",
              "      <td>0.001</td>\n",
              "      <td>0.001</td>\n",
              "      <td>0.001</td>\n",
              "      <td>0.001</td>\n",
              "      <td>0.001</td>\n",
              "    </tr>\n",
              "    <tr>\n",
              "      <th>2</th>\n",
              "      <td>2</td>\n",
              "      <td>AAP</td>\n",
              "      <td>0.488085</td>\n",
              "      <td>-1.489697</td>\n",
              "      <td>0.688916</td>\n",
              "      <td>0.512605</td>\n",
              "      <td>-0.455515</td>\n",
              "      <td>1.563607</td>\n",
              "      <td>0.577907</td>\n",
              "      <td>-1.479291</td>\n",
              "      <td>0.941073</td>\n",
              "      <td>0.194777</td>\n",
              "      <td>1.000000</td>\n",
              "      <td>0.001</td>\n",
              "      <td>0.001</td>\n",
              "      <td>0.001</td>\n",
              "      <td>0.001</td>\n",
              "      <td>0.001</td>\n",
              "      <td>0.001</td>\n",
              "      <td>0.001</td>\n",
              "      <td>0.001</td>\n",
              "      <td>0.001</td>\n",
              "      <td>0.001</td>\n",
              "      <td>0.001</td>\n",
              "      <td>0.001</td>\n",
              "      <td>0.001</td>\n",
              "      <td>0.001</td>\n",
              "      <td>0.001</td>\n",
              "      <td>0.001</td>\n",
              "      <td>0.001</td>\n",
              "      <td>0.001</td>\n",
              "      <td>0.001</td>\n",
              "      <td>0.001</td>\n",
              "      <td>0.001</td>\n",
              "      <td>0.001</td>\n",
              "      <td>0.001</td>\n",
              "      <td>0.001</td>\n",
              "      <td>0.001</td>\n",
              "      <td>0.001</td>\n",
              "      <td>0.001</td>\n",
              "      <td>0.001</td>\n",
              "      <td>0.001</td>\n",
              "      <td>0.001</td>\n",
              "      <td>0.001</td>\n",
              "      <td>0.001</td>\n",
              "    </tr>\n",
              "    <tr>\n",
              "      <th>3</th>\n",
              "      <td>3</td>\n",
              "      <td>AAP</td>\n",
              "      <td>-0.588054</td>\n",
              "      <td>-0.868341</td>\n",
              "      <td>-0.711547</td>\n",
              "      <td>-0.672294</td>\n",
              "      <td>0.710237</td>\n",
              "      <td>-0.237520</td>\n",
              "      <td>-0.151698</td>\n",
              "      <td>-0.111626</td>\n",
              "      <td>1.718842</td>\n",
              "      <td>0.096721</td>\n",
              "      <td>2.000000</td>\n",
              "      <td>0.000</td>\n",
              "      <td>0.001</td>\n",
              "      <td>0.001</td>\n",
              "      <td>0.001</td>\n",
              "      <td>0.001</td>\n",
              "      <td>0.001</td>\n",
              "      <td>0.001</td>\n",
              "      <td>0.001</td>\n",
              "      <td>0.001</td>\n",
              "      <td>0.001</td>\n",
              "      <td>0.001</td>\n",
              "      <td>0.001</td>\n",
              "      <td>0.001</td>\n",
              "      <td>0.001</td>\n",
              "      <td>0.001</td>\n",
              "      <td>0.001</td>\n",
              "      <td>0.001</td>\n",
              "      <td>0.001</td>\n",
              "      <td>0.001</td>\n",
              "      <td>0.001</td>\n",
              "      <td>0.001</td>\n",
              "      <td>0.001</td>\n",
              "      <td>0.001</td>\n",
              "      <td>0.001</td>\n",
              "      <td>0.001</td>\n",
              "      <td>0.001</td>\n",
              "      <td>0.001</td>\n",
              "      <td>0.001</td>\n",
              "      <td>0.001</td>\n",
              "      <td>0.001</td>\n",
              "      <td>0.001</td>\n",
              "      <td>0.001</td>\n",
              "    </tr>\n",
              "    <tr>\n",
              "      <th>4</th>\n",
              "      <td>4</td>\n",
              "      <td>AAP</td>\n",
              "      <td>0.454455</td>\n",
              "      <td>0.485844</td>\n",
              "      <td>-0.169238</td>\n",
              "      <td>0.695180</td>\n",
              "      <td>0.764226</td>\n",
              "      <td>0.006655</td>\n",
              "      <td>-2.008995</td>\n",
              "      <td>-1.131305</td>\n",
              "      <td>-0.226778</td>\n",
              "      <td>-0.420710</td>\n",
              "      <td>0.001000</td>\n",
              "      <td>0.001</td>\n",
              "      <td>0.001</td>\n",
              "      <td>0.001</td>\n",
              "      <td>0.001</td>\n",
              "      <td>0.001</td>\n",
              "      <td>0.001</td>\n",
              "      <td>0.001</td>\n",
              "      <td>0.001</td>\n",
              "      <td>0.001</td>\n",
              "      <td>0.001</td>\n",
              "      <td>0.001</td>\n",
              "      <td>0.001</td>\n",
              "      <td>0.001</td>\n",
              "      <td>0.001</td>\n",
              "      <td>0.001</td>\n",
              "      <td>0.001</td>\n",
              "      <td>0.001</td>\n",
              "      <td>0.001</td>\n",
              "      <td>0.001</td>\n",
              "      <td>0.001</td>\n",
              "      <td>0.001</td>\n",
              "      <td>0.001</td>\n",
              "      <td>0.001</td>\n",
              "      <td>0.001</td>\n",
              "      <td>0.001</td>\n",
              "      <td>0.001</td>\n",
              "      <td>0.001</td>\n",
              "      <td>0.001</td>\n",
              "      <td>0.001</td>\n",
              "      <td>0.001</td>\n",
              "      <td>0.001</td>\n",
              "      <td>0.001</td>\n",
              "    </tr>\n",
              "  </tbody>\n",
              "</table>\n",
              "</div>"
            ],
            "text/plain": [
              "   Unnamed: 0 Target  Embedding  ...  Unnamed: 42  Unnamed: 43  Unnamed: 44\n",
              "0           0    BJP   0.610007  ...        0.001        0.001        0.001\n",
              "1           1    BJP   1.132800  ...        0.001        0.001        0.001\n",
              "2           2    AAP   0.488085  ...        0.001        0.001        0.001\n",
              "3           3    AAP  -0.588054  ...        0.001        0.001        0.001\n",
              "4           4    AAP   0.454455  ...        0.001        0.001        0.001\n",
              "\n",
              "[5 rows x 45 columns]"
            ]
          },
          "metadata": {
            "tags": []
          },
          "execution_count": 6
        }
      ]
    },
    {
      "cell_type": "code",
      "metadata": {
        "colab": {
          "base_uri": "https://localhost:8080/"
        },
        "id": "DUEQP_kP50tA",
        "outputId": "01837104-452b-4367-fbe5-00fcb04ac665"
      },
      "source": [
        "label = df.pop('Target')\n",
        "label= label.astype(str)\n",
        "print(label)"
      ],
      "execution_count": null,
      "outputs": [
        {
          "output_type": "stream",
          "text": [
            "0           BJP\n",
            "1           BJP\n",
            "2           AAP\n",
            "3           AAP\n",
            "4           AAP\n",
            "         ...   \n",
            "477    Congress\n",
            "478         BJP\n",
            "479         BJP\n",
            "480       AIMIM\n",
            "481         BJP\n",
            "Name: Target, Length: 482, dtype: object\n"
          ],
          "name": "stdout"
        }
      ]
    },
    {
      "cell_type": "code",
      "metadata": {
        "colab": {
          "base_uri": "https://localhost:8080/"
        },
        "id": "u5Mh2gRy6ZkM",
        "outputId": "fac329de-8a7c-4dec-995d-79118e7fce54"
      },
      "source": [
        "df.pop('Unnamed: 0')"
      ],
      "execution_count": null,
      "outputs": [
        {
          "output_type": "execute_result",
          "data": {
            "text/plain": [
              "0        0\n",
              "1        1\n",
              "2        2\n",
              "3        3\n",
              "4        4\n",
              "      ... \n",
              "477    477\n",
              "478    478\n",
              "479    479\n",
              "480    480\n",
              "481    481\n",
              "Name: Unnamed: 0, Length: 482, dtype: int64"
            ]
          },
          "metadata": {
            "tags": []
          },
          "execution_count": 8
        }
      ]
    },
    {
      "cell_type": "code",
      "metadata": {
        "colab": {
          "base_uri": "https://localhost:8080/"
        },
        "id": "LDAf0d6o6UzP",
        "outputId": "3d4bc9b7-ca52-4f93-80ce-76fe9464c94b"
      },
      "source": [
        "train_data = torch.tensor(df.values).type(torch.FloatTensor)\n",
        "train_data = torch.reshape(train_data,[482,1,1,43])\n",
        "train_data.size()"
      ],
      "execution_count": null,
      "outputs": [
        {
          "output_type": "execute_result",
          "data": {
            "text/plain": [
              "torch.Size([482, 1, 1, 43])"
            ]
          },
          "metadata": {
            "tags": []
          },
          "execution_count": 9
        }
      ]
    },
    {
      "cell_type": "code",
      "metadata": {
        "colab": {
          "base_uri": "https://localhost:8080/"
        },
        "id": "atH9VR3J_dMB",
        "outputId": "d0d224e6-1545-4444-eda1-d562513fbf32"
      },
      "source": [
        "label = pd.DataFrame(label)\n",
        "type(label)"
      ],
      "execution_count": null,
      "outputs": [
        {
          "output_type": "execute_result",
          "data": {
            "text/plain": [
              "pandas.core.frame.DataFrame"
            ]
          },
          "metadata": {
            "tags": []
          },
          "execution_count": 10
        }
      ]
    },
    {
      "cell_type": "code",
      "metadata": {
        "id": "9dxASToQCZwX"
      },
      "source": [
        "labels = np.array(label.values)"
      ],
      "execution_count": null,
      "outputs": []
    },
    {
      "cell_type": "code",
      "metadata": {
        "id": "0f4EeNJR9pu2"
      },
      "source": [
        "from sklearn import preprocessing\n",
        "le = preprocessing.OneHotEncoder()\n",
        "label = le.fit_transform(label.values)"
      ],
      "execution_count": null,
      "outputs": []
    },
    {
      "cell_type": "code",
      "metadata": {
        "id": "EgMdSwWV_upV"
      },
      "source": [
        "label = torch.from_numpy(label.todense())"
      ],
      "execution_count": null,
      "outputs": []
    },
    {
      "cell_type": "code",
      "metadata": {
        "id": "GWh_Gg0PAMZ_",
        "colab": {
          "base_uri": "https://localhost:8080/"
        },
        "outputId": "8ca9fd02-d9c9-4c00-82bb-e62dd8380c2a"
      },
      "source": [
        "print(label)"
      ],
      "execution_count": null,
      "outputs": [
        {
          "output_type": "stream",
          "text": [
            "tensor([[0., 0., 0.,  ..., 0., 0., 0.],\n",
            "        [0., 0., 0.,  ..., 0., 0., 0.],\n",
            "        [1., 0., 0.,  ..., 0., 0., 0.],\n",
            "        ...,\n",
            "        [0., 0., 0.,  ..., 0., 0., 0.],\n",
            "        [0., 0., 0.,  ..., 0., 0., 0.],\n",
            "        [0., 0., 0.,  ..., 0., 0., 0.]], dtype=torch.float64)\n"
          ],
          "name": "stdout"
        }
      ]
    },
    {
      "cell_type": "code",
      "metadata": {
        "id": "W-VeUnZ6EVie"
      },
      "source": [
        "dataset = TensorDataset(train_data,label)"
      ],
      "execution_count": null,
      "outputs": []
    },
    {
      "cell_type": "code",
      "metadata": {
        "id": "jMycCqJXFGqh",
        "colab": {
          "base_uri": "https://localhost:8080/"
        },
        "outputId": "2c784dee-7a5f-4b70-d125-d8467206a190"
      },
      "source": [
        "torch.manual_seed(42)"
      ],
      "execution_count": null,
      "outputs": [
        {
          "output_type": "execute_result",
          "data": {
            "text/plain": [
              "<torch._C.Generator at 0x7fbc0666f8f0>"
            ]
          },
          "metadata": {
            "tags": []
          },
          "execution_count": 16
        }
      ]
    },
    {
      "cell_type": "code",
      "metadata": {
        "id": "OxGXKVchEwpM"
      },
      "source": [
        "train_ds, test_ds = random_split(dataset,[385,97])"
      ],
      "execution_count": null,
      "outputs": []
    },
    {
      "cell_type": "code",
      "metadata": {
        "id": "5kZtJZ_7Fe-F",
        "colab": {
          "base_uri": "https://localhost:8080/"
        },
        "outputId": "63724d6a-78a2-4971-8035-a8bdae15aab0"
      },
      "source": [
        "train_dl = DataLoader(train_ds,32,shuffle=True,num_workers=3,pin_memory=True)\n",
        "test_dl = DataLoader(test_ds,32,shuffle=True,num_workers=3,pin_memory=True)\n",
        "total_dl = DataLoader(dataset,32,shuffle=True,num_workers=3,pin_memory=True)"
      ],
      "execution_count": null,
      "outputs": [
        {
          "output_type": "stream",
          "text": [
            "/usr/local/lib/python3.7/dist-packages/torch/utils/data/dataloader.py:477: UserWarning: This DataLoader will create 3 worker processes in total. Our suggested max number of worker in current system is 2, which is smaller than what this DataLoader is going to create. Please be aware that excessive worker creation might get DataLoader running slow or even freeze, lower the worker number to avoid potential slowness/freeze if necessary.\n",
            "  cpuset_checked))\n"
          ],
          "name": "stderr"
        }
      ]
    },
    {
      "cell_type": "code",
      "metadata": {
        "id": "qvWRDEBMV-w6"
      },
      "source": [
        "class CNN(nn.Module):\n",
        "  def __init__(self, in_channel = 1, num_classes = 29):\n",
        "    super(CNN, self).__init__()\n",
        "    self.leakyR = nn.LeakyReLU(0.2)\n",
        "    self.conv1 = nn.Conv2d(in_channels=1, out_channels=16, kernel_size= (2,2), stride= (1,1), padding= (1,1))\n",
        "    self.pool = nn.MaxPool2d(kernel_size= (2,2), stride= (2,2))\n",
        "    self.conv2 = nn.Conv2d(in_channels=16, out_channels=16, kernel_size= (2,2), stride= (1,1), padding= (1,1))\n",
        "    self.fc1 = nn.Linear(176, num_classes)\n",
        "    #self.hl = nn.Linear(150, num_classes)\n",
        "\n",
        "  def forward(self, x):\n",
        "    x = self.leakyR(self.conv1(x))\n",
        "    #print(\"conv1: \")\n",
        "    #print(x.size())\n",
        "    x = self.pool(x)\n",
        "    #print(\"pool: \")\n",
        "    #print(x.size())\n",
        "    x = self.leakyR(self.conv2(x))\n",
        "    #print(\"conv2 \")\n",
        "    #print(x.size())\n",
        "    x = self.pool(x)\n",
        "    #print(\"pool: \")\n",
        "    #print(x.size())\n",
        "    x = x.reshape(x.shape[0], -1)\n",
        "    #print(\"reshape: \")\n",
        "    #print(x.size())\n",
        "    x = self.fc1(x)\n",
        "    #print(\"fc1: \")\n",
        "    #print(x.size())\n",
        "    x = F.softmax(x,dim=1)\n",
        "    #print(\"softmax: \")\n",
        "    #print(x.size())\n",
        "    return x  \n",
        "\n",
        "model = CNN()\n",
        "\n",
        "optimizer = torch.optim.Adam(model.parameters(), lr= learning_rate, betas= (0.5, 0.999))\n",
        "#optimizer =  torch.optim.SGD(model.parameters(), lr= learning_rate)\n"
      ],
      "execution_count": null,
      "outputs": []
    },
    {
      "cell_type": "code",
      "metadata": {
        "id": "gcK_j2fPPRn-",
        "colab": {
          "base_uri": "https://localhost:8080/"
        },
        "outputId": "364e98bb-f80c-4754-ba76-24df699573f8"
      },
      "source": [
        "for epoch in range(num_epochs):\n",
        "  model.train()\n",
        "  for batch_idx, (data, targets) in enumerate(train_dl):\n",
        "    scores = model(data)\n",
        "    loss = F.cross_entropy(scores, torch.argmax(targets,dim=1))\n",
        "    loss = loss.float()\n",
        "    optimizer.zero_grad()\n",
        "    loss.backward()\n",
        "    \n",
        "    optimizer.step()\n",
        "\n"
      ],
      "execution_count": null,
      "outputs": [
        {
          "output_type": "stream",
          "text": [
            "/usr/local/lib/python3.7/dist-packages/torch/utils/data/dataloader.py:477: UserWarning: This DataLoader will create 3 worker processes in total. Our suggested max number of worker in current system is 2, which is smaller than what this DataLoader is going to create. Please be aware that excessive worker creation might get DataLoader running slow or even freeze, lower the worker number to avoid potential slowness/freeze if necessary.\n",
            "  cpuset_checked))\n"
          ],
          "name": "stderr"
        }
      ]
    },
    {
      "cell_type": "code",
      "metadata": {
        "id": "QOM_ObpBdi0D"
      },
      "source": [
        "@torch.no_grad()\n",
        "def accuracy(train_dl):\n",
        "  acc = 0;\n",
        "  cnt =0;\n",
        "  for batch,labels in train_dl:\n",
        "    model.eval()\n",
        "    out = model(batch)\n",
        "    preds = torch.argmax(out,dim=1)\n",
        "    label = torch.argmax(labels,dim=1)\n",
        "    cnt+=1\n",
        "    acc += torch.tensor(torch.sum(preds == label).item()/len(preds)).item()\n",
        "  accuracy = acc/cnt\n",
        "  return accuracy"
      ],
      "execution_count": null,
      "outputs": []
    },
    {
      "cell_type": "code",
      "metadata": {
        "id": "JxzRlCBoliJk"
      },
      "source": [
        "#torch.save(model.state_dict(),'good_model.pth')"
      ],
      "execution_count": null,
      "outputs": []
    },
    {
      "cell_type": "code",
      "metadata": {
        "colab": {
          "base_uri": "https://localhost:8080/"
        },
        "id": "jhkv5z0OfEBE",
        "outputId": "186bc7fc-2482-4b59-b620-36f48162ac9a"
      },
      "source": [
        "accuracy(train_dl)"
      ],
      "execution_count": null,
      "outputs": [
        {
          "output_type": "stream",
          "text": [
            "/usr/local/lib/python3.7/dist-packages/torch/utils/data/dataloader.py:477: UserWarning: This DataLoader will create 3 worker processes in total. Our suggested max number of worker in current system is 2, which is smaller than what this DataLoader is going to create. Please be aware that excessive worker creation might get DataLoader running slow or even freeze, lower the worker number to avoid potential slowness/freeze if necessary.\n",
            "  cpuset_checked))\n"
          ],
          "name": "stderr"
        },
        {
          "output_type": "execute_result",
          "data": {
            "text/plain": [
              "0.49759615384615385"
            ]
          },
          "metadata": {
            "tags": []
          },
          "execution_count": 32
        }
      ]
    },
    {
      "cell_type": "code",
      "metadata": {
        "colab": {
          "base_uri": "https://localhost:8080/"
        },
        "id": "_AfTNOlXFdtb",
        "outputId": "da0b13b7-3e1c-4656-ef2d-64128c74f7e8"
      },
      "source": [
        "accuracy(test_dl)"
      ],
      "execution_count": null,
      "outputs": [
        {
          "output_type": "stream",
          "text": [
            "/usr/local/lib/python3.7/dist-packages/torch/utils/data/dataloader.py:477: UserWarning: This DataLoader will create 3 worker processes in total. Our suggested max number of worker in current system is 2, which is smaller than what this DataLoader is going to create. Please be aware that excessive worker creation might get DataLoader running slow or even freeze, lower the worker number to avoid potential slowness/freeze if necessary.\n",
            "  cpuset_checked))\n"
          ],
          "name": "stderr"
        },
        {
          "output_type": "execute_result",
          "data": {
            "text/plain": [
              "0.3125"
            ]
          },
          "metadata": {
            "tags": []
          },
          "execution_count": 30
        }
      ]
    },
    {
      "cell_type": "code",
      "metadata": {
        "colab": {
          "base_uri": "https://localhost:8080/"
        },
        "id": "ivVEJNvpFdcV",
        "outputId": "57f0f931-2b8d-4d85-8c98-266de84be258"
      },
      "source": [
        "accuracy(total_dl)"
      ],
      "execution_count": null,
      "outputs": [
        {
          "output_type": "stream",
          "text": [
            "/usr/local/lib/python3.7/dist-packages/torch/utils/data/dataloader.py:477: UserWarning: This DataLoader will create 3 worker processes in total. Our suggested max number of worker in current system is 2, which is smaller than what this DataLoader is going to create. Please be aware that excessive worker creation might get DataLoader running slow or even freeze, lower the worker number to avoid potential slowness/freeze if necessary.\n",
            "  cpuset_checked))\n"
          ],
          "name": "stderr"
        },
        {
          "output_type": "execute_result",
          "data": {
            "text/plain": [
              "0.451171875"
            ]
          },
          "metadata": {
            "tags": []
          },
          "execution_count": 29
        }
      ]
    }
  ]
}